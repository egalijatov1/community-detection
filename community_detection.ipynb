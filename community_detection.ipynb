{
 "cells": [
  {
   "cell_type": "code",
   "execution_count": 2,
   "metadata": {
    "pycharm": {
     "is_executing": false
    }
   },
   "outputs": [],
   "source": [
    "import community as community_louvain\n",
    "import matplotlib.cm as cm\n",
    "import numpy as np\n",
    "import matplotlib.pyplot as plt\n",
    "import networkx as nx\n",
    "import community\n",
    "import pandas as pd\n",
    "from scipy import stats\n",
    "from collections import Counter\n",
    "from networkx.algorithms.community.modularity_max import greedy_modularity_communities\n"
   ]
  },
  {
   "cell_type": "code",
   "execution_count": 5,
   "metadata": {
    "pycharm": {
     "is_executing": false
    }
   },
   "outputs": [],
   "source": [
    "def create_graph(data):\n",
    "    graph = nx.from_pandas_edgelist(data, source='source', target='target', edge_attr=None)\n",
    "    graph = graph.to_undirected()\n",
    "    for component in list(nx.connected_components(graph)):\n",
    "        if len(component) <= 3:\n",
    "            for node in component:\n",
    "                graph.remove_node(node)\n",
    "    return graph"
   ]
  },
  {
   "cell_type": "code",
   "execution_count": 6,
   "metadata": {
    "pycharm": {
     "is_executing": false
    }
   },
   "outputs": [],
   "source": [
    "def create_partition(graph, communities):\n",
    "    partition = {}\n",
    "    for node in graph.nodes:\n",
    "        i = 0\n",
    "        for c in communities:\n",
    "            if node in c:\n",
    "                partition[node] = i\n",
    "                break\n",
    "            i +=1\n",
    "    return partition\n",
    "\n",
    "def create_communities(partition):\n",
    "    number_of_communities = len(list(set([i for i in partition.values()])))\n",
    "    communities = [[] for i in range(number_of_communities)]\n",
    "    for x in partition:\n",
    "        communities[partition[x]].append(x)\n",
    "    return communities"
   ]
  },
  {
   "cell_type": "code",
   "execution_count": 7,
   "metadata": {
    "pycharm": {
     "is_executing": false
    }
   },
   "outputs": [],
   "source": [
    "def community_clustering_info(graph, partition):\n",
    "    number_of_communities = len(list(set([i for i in partition.values()])))\n",
    "    communities_members = Counter(partition.values())\n",
    "    col1=[\"Number of communities detected\",  \"Largest community (id)\", \"Size of largest community\", \"Smallest community (id)\",\n",
    "          \"Size of smallest community\", \"Modularity of partition\"]\n",
    "    col1=pd.Series(col1)\n",
    "    col2=[str(number_of_communities), str(Counter(communities_members).most_common(1)[0][0]),\n",
    "         str(Counter(communities_members).most_common(1)[0][1]), str(communities_members.most_common()[:-1 - 1:-1][0][0]),\n",
    "         str(communities_members.most_common()[:-1 - 1:-1][0][1]), str(round(community.modularity(partition, graph), 6))]\n",
    "    col2=pd.Series(col2)\n",
    "    return pd.concat([col1, col2], axis=1)"
   ]
  },
  {
   "cell_type": "code",
   "execution_count": 8,
   "metadata": {
    "pycharm": {
     "is_executing": false
    }
   },
   "outputs": [],
   "source": [
    "def graph_info(graph):\n",
    "    degrees = [val for (node, val) in graph.degree()]\n",
    "    listcol1 = [\"Number of nodes \",\"Number of edges \",\"Maximum degree \",\"Minimum degree \",\"Average degree \",\n",
    "                \"Most frequent degree \",\"Density \",\"Number of selfloops \",\"Degree assortiativity coefficient \"]\n",
    "    column1 = pd.Series(listcol1)\n",
    "    listcol2 = [str(len(graph.nodes)),str(len(graph.edges)), str(np.max(degrees)),str(np.min(degrees)),str(np.round(np.mean(degrees),6)),\n",
    "                str(stats.mode(degrees)[0][0]),str(round(nx.density(graph),6)),str(nx.number_of_selfloops(graph)),\n",
    "                str(round(nx.degree_assortativity_coefficient(graph), 6))]\n",
    "    column2 = pd.Series(listcol2)\n",
    "    return pd.concat([column1, column2], axis=1)\n"
   ]
  },
  {
   "cell_type": "code",
   "execution_count": 9,
   "metadata": {},
   "outputs": [],
   "source": [
    "def evaluate(graph, communities):\n",
    "    modularity = nx.algorithms.community.quality.modularity(graph, communities)\n",
    "    coverage = nx.algorithms.community.quality.coverage(graph, communities)\n",
    "    performance = nx.algorithms.community.quality.performance(graph, communities)\n",
    "    print(\"Modularity: \", modularity)\n",
    "    print(\"Coverage: \", coverage)\n",
    "    print(\"Performance: \", performance)"
   ]
  },
  {
   "cell_type": "code",
   "execution_count": 10,
   "metadata": {
    "pycharm": {
     "name": "#%%\n"
    }
   },
   "outputs": [],
   "source": [
    "def louvain_community_detection(graph):\n",
    "    partition = community_louvain.best_partition(graph)\n",
    "    return partition\n",
    "\n",
    "def greedy_community_detection(graph):\n",
    "    c = list(greedy_modularity_communities(graph))\n",
    "    return c"
   ]
  },
  {
   "cell_type": "code",
   "execution_count": 12,
   "metadata": {
    "pycharm": {
     "is_executing": false
    }
   },
   "outputs": [],
   "source": [
    "data = pd.read_csv(\"dataset/colab.csv\")\n",
    "graph = create_graph(data)"
   ]
  },
  {
   "cell_type": "code",
   "execution_count": 13,
   "metadata": {},
   "outputs": [
    {
     "name": "stdout",
     "output_type": "stream",
     "text": [
      "177.07766990291262\n"
     ]
    }
   ],
   "source": [
    "partition = louvain_community_detection(graph)\n",
    "communities = create_communities(partition)\n",
    "avg = 0\n",
    "for c in communities:\n",
    "    avg += len(c)\n",
    "avg = avg/len(communities)\n",
    "print(avg)"
   ]
  },
  {
   "cell_type": "code",
   "execution_count": null,
   "metadata": {},
   "outputs": [],
   "source": [
    "#modularity1 = nx.algorithms.community.quality.modularity(graph, communities)\n",
    "#coverage1 = nx.algorithms.community.quality.coverage(graph, communities)\n",
    "\n",
    "#print(\"Modularity: \", modularity1)\n",
    "#print(\"Coverage: \", coverage1)"
   ]
  },
  {
   "cell_type": "code",
   "execution_count": 14,
   "metadata": {
    "pycharm": {
     "is_executing": false,
     "name": "#%%\n"
    }
   },
   "outputs": [
    {
     "name": "stdout",
     "output_type": "stream",
     "text": [
      "84.05069124423963\n"
     ]
    }
   ],
   "source": [
    "communities2 = greedy_community_detection(graph)\n",
    "avg = 0\n",
    "for c in communities2:\n",
    "    avg += len(c)\n",
    "avg = avg/len(communities2)\n",
    "print(avg)\n",
    "#modularity2 = nx.algorithms.community.quality.modularity(graph, communities2)\n",
    "#coverage2 = nx.algorithms.community.quality.coverage(graph, communities2)\n",
    "#performance2 = nx.algorithms.community.quality.performance(graph, communities2)\n"
   ]
  },
  {
   "cell_type": "code",
   "execution_count": 16,
   "metadata": {},
   "outputs": [
    {
     "name": "stdout",
     "output_type": "stream",
     "text": [
      "22\n"
     ]
    }
   ],
   "source": [
    "count = 0\n",
    "for c in communities:\n",
    "    if len(c)>177:\n",
    "        count+=1\n",
    "print(count)        "
   ]
  },
  {
   "cell_type": "code",
   "execution_count": 17,
   "metadata": {},
   "outputs": [
    {
     "name": "stdout",
     "output_type": "stream",
     "text": [
      "11\n"
     ]
    }
   ],
   "source": [
    "count2 = 0\n",
    "for c in communities2:\n",
    "    if len(c)>84:\n",
    "        count2+=1\n",
    "print(count2) "
   ]
  }
 ],
 "metadata": {
  "kernelspec": {
   "display_name": "Python 3",
   "language": "python",
   "name": "python3"
  },
  "language_info": {
   "codemirror_mode": {
    "name": "ipython",
    "version": 3
   },
   "file_extension": ".py",
   "mimetype": "text/x-python",
   "name": "python",
   "nbconvert_exporter": "python",
   "pygments_lexer": "ipython3",
   "version": "3.7.5"
  },
  "pycharm": {
   "stem_cell": {
    "cell_type": "raw",
    "metadata": {
     "collapsed": false
    },
    "source": []
   }
  }
 },
 "nbformat": 4,
 "nbformat_minor": 2
}
